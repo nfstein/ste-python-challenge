{
 "cells": [
  {
   "cell_type": "code",
   "execution_count": 1,
   "metadata": {
    "collapsed": true
   },
   "outputs": [],
   "source": [
    "import os\n",
    "import csv\n",
    "import sys \n",
    "import pandas as pd\n",
    "\n",
    "filename = 'election_data_2.csv'\n",
    "out_filename = 'election_results.txt'\n",
    "out_filename_csv = 'election_result_data'\n",
    "filepath = os.path.join('raw_data', filename)\n",
    "out_filepath = os.path.join('processed_data', out_filename)\n",
    "out_filepath_csv = os.path.join('processed_data', out_filename_csv)\n",
    "candidates = []#'Khan', 'Correy', 'Li', \"O'Tooley\"]\n",
    "votes = {}#'Khan': 0, 'Correy': 0, 'Li': 0, \"O'Tooley\": 0}\n",
    "county_vote = {}#'Marsh': {'Khan': 0, 'Correy': 0, 'Li': 0, \"O'Tooley\": 0}, 'Queen':{'Khan': 0, 'Correy': 0, 'Li': 0, \"O'Tooley\": 0}, 'Bamoo': {'Khan': 0, 'Correy': 0, 'Li': 0, \"O'Tooley\": 0}, 'Trandee': {'Khan': 0, 'Correy': 0, 'Li': 0, \"O'Tooley\": 0}, 'Raffah': {'Khan': 0, 'Correy': 0, 'Li': 0, \"O'Tooley\": 0}}\n",
    "county_names = []\n",
    "voter_ids = []\n",
    "vote_total = 0\n",
    "winner = {}"
   ]
  },
  {
   "cell_type": "code",
   "execution_count": 3,
   "metadata": {},
   "outputs": [
    {
     "name": "stdout",
     "output_type": "stream",
     "text": [
      "\n",
      "COUNTING VOTES\n",
      "____________________________________________________________________\n",
      "####################################################################\n",
      "\n"
     ]
    }
   ],
   "source": [
    "\n",
    "with open(filepath, 'r') as csvfile:\n",
    "    csvreader = csv.reader(csvfile)\n",
    "    \n",
    "    next(csvreader)\n",
    "\n",
    "    print(\"\\nCOUNTING VOTES\")\n",
    "    print('____________________________________________________________________')\n",
    "\n",
    "    for row in csvreader:\n",
    "        # create key in votes\n",
    "        if row[2] not in votes:\n",
    "            votes[row[2]] = 0\n",
    "            candidates.append(row[2])\n",
    "        # tally vote in votes\n",
    "        votes[row[2]] += 1\n",
    "\n",
    "        # create keys in county_vote\n",
    "        if row[1] not in county_vote:\n",
    "            county_vote[row[1]] = {}\n",
    "            county_names.append(row[1])\n",
    "        if row[2] not in county_vote[row[1]]:\n",
    "            county_vote[row[1]][row[2]] = 0\n",
    "        # tally vote in county_vote\n",
    "        county_vote[row[1]][row[2]] += 1\n",
    "\n",
    "        vote_total += 1\n",
    "        if vote_total % 51500 == 0:            \n",
    "            print(\"#\", end = '')\n",
    "            sys.stdout.flush()\n",
    "\n",
    "        #if row[0] in voter_ids:\n",
    "        #    print(f\"ERROR - VOTER FRAUD DETECTED {row}\")\n",
    "        #voter_ids.append(row[0])\n",
    "print('\\n')\n"
   ]
  },
  {
   "cell_type": "code",
   "execution_count": 4,
   "metadata": {},
   "outputs": [
    {
     "name": "stdout",
     "output_type": "stream",
     "text": [
      "====================================================================\n",
      "Marsh County --------------\n",
      "Khan: 1427142\tCorrey: 453015\tLi: 317651\tO'Tooley: 68149\t\n",
      "Khan: 63%   \tCorrey: 20%   \tLi: 14%   \tO'Tooley: 3%   \t\n",
      "Queen County --------------\n",
      "Khan: 439494\tCorrey: 139554\tLi: 97305\tO'Tooley: 20850\t\n",
      "Khan: 63%   \tCorrey: 20%   \tLi: 14%   \tO'Tooley: 3%   \t\n",
      "Bamoo County --------------\n",
      "Khan: 219834\tCorrey: 69752\tLi: 48639\tO'Tooley: 10433\t\n",
      "Khan: 63%   \tCorrey: 20%   \tLi: 14%   \tO'Tooley: 3%   \t\n",
      "Trandee County --------------\n",
      "Khan: 65939\tCorrey: 20824\tLi: 14741\tO'Tooley: 3113\t\n",
      "Khan: 63%   \tCorrey: 20%   \tLi: 14%   \tO'Tooley: 3%   \t\n",
      "Raffah County --------------\n",
      "Khan: 65822\tCorrey: 21055\tLi: 14604\tO'Tooley: 3085\t\n",
      "Khan: 63%   \tCorrey: 20%   \tLi: 14%   \tO'Tooley: 3%   \t\n",
      "====================================================================\n",
      "Total Votes: 3521001\n",
      "Khan: 2218231\tCorrey: 704200\tLi: 492940\tO'Tooley: 105630\t\n",
      "Khan: 63%    \tCorrey: 20%    \tLi: 14%    \tO'Tooley: 3%    \t\n",
      "WINNER - Khan with 63% of the vote.\n"
     ]
    }
   ],
   "source": [
    "\n",
    "with open(out_filepath, 'w') as textfile:\n",
    "\n",
    "    print(\"====================================================================\")\n",
    "    textfile.write(\"Election Results====================================================\\n\")\n",
    "\n",
    "    #COUNTY PRINTOUT\n",
    "    for county in county_vote:\n",
    "        print(f'{county} County --------------')\n",
    "        textfile.write(f'{county} County --------------\\n')\n",
    "        #pulls candidates from list to order printout\n",
    "        county_vote_total = 0\n",
    "        #gets county vote totals\n",
    "\n",
    "        for candidate in county_vote[county]:\n",
    "            county_vote_total += county_vote[county][candidate]\n",
    "        #prints out vounty votes by pulling candidates from list to order printout\n",
    "        for candidate in candidates:\n",
    "            #avoids possible keyerrors from candidates not running in a given county\n",
    "            if candidate in county_vote[county]:\n",
    "                print(f\"{candidate}: {county_vote[county][candidate]}\", end = \"\\t\")\n",
    "                textfile.write(f\"{candidate}: {county_vote[county][candidate]} \\t\")\n",
    "        #prints out county percentages\n",
    "        print('')\n",
    "        textfile.write('\\n')\n",
    "        for candidate in candidates:\n",
    "            #avoids possible keyerrors from candidates not running in a county\n",
    "            if candidate in county_vote[county]:\n",
    "                print(f'{candidate}: {int(round(county_vote[county][candidate]/county_vote_total*100,0))}%   ', end = '\\t')\n",
    "                textfile.write(f'{candidate}: {int(round(county_vote[county][candidate]/county_vote_total*100,0))}%   \\t')\n",
    "        print('')\n",
    "        textfile.write('\\n')\n",
    "\n",
    "    #VOTE TOTAL PRINTOUT\n",
    "    print(\"====================================================================\")\n",
    "    textfile.write(\"====================================================================\\n\")\n",
    "    print(f'Total Votes: {vote_total}')\n",
    "    textfile.write(f'Total Votes: {vote_total}\\n')\n",
    "    for candidate in votes:\n",
    "        print(f'{candidate}: {votes[candidate]}', end = '\\t')\n",
    "        textfile.write(f'{candidate}: {votes[candidate]} \\t')\n",
    "    print('')\n",
    "    textfile.write('\\n')\n",
    "\n",
    "    #PERCENTAGE PRINTOUT\n",
    "    last_total = 0\n",
    "    for candidate in votes:\n",
    "        print(f'{candidate}: {int(round(votes[candidate]/vote_total*100,0))}%    ', end = '\\t')\n",
    "        textfile.write(f'{candidate}: {int(round(votes[candidate]/vote_total*100,0))}%    \\t')\n",
    "        if votes[candidate] > last_total:\n",
    "            winner = [candidate, int(round(votes[candidate]/vote_total*100,0))]\n",
    "            last_total = votes[candidate]\n",
    "\n",
    "    print('')\n",
    "    textfile.write('\\n')\n",
    "    print(f'WINNER - {winner[0]} with {winner[1]}% of the vote.')\n",
    "    textfile.write(f'WINNER - {winner[0]} with {winner[1]}% of the vote.\\n')\n"
   ]
  },
  {
   "cell_type": "code",
   "execution_count": 5,
   "metadata": {},
   "outputs": [
    {
     "data": {
      "text/plain": [
       "['Marsh', 'Queen', 'Bamoo', 'Trandee', 'Raffah']"
      ]
     },
     "execution_count": 5,
     "metadata": {},
     "output_type": "execute_result"
    }
   ],
   "source": [
    "county_names"
   ]
  },
  {
   "cell_type": "code",
   "execution_count": 6,
   "metadata": {},
   "outputs": [
    {
     "data": {
      "text/html": [
       "<div>\n",
       "<style>\n",
       "    .dataframe thead tr:only-child th {\n",
       "        text-align: right;\n",
       "    }\n",
       "\n",
       "    .dataframe thead th {\n",
       "        text-align: left;\n",
       "    }\n",
       "\n",
       "    .dataframe tbody tr th {\n",
       "        vertical-align: top;\n",
       "    }\n",
       "</style>\n",
       "<table border=\"1\" class=\"dataframe\">\n",
       "  <thead>\n",
       "    <tr style=\"text-align: right;\">\n",
       "      <th></th>\n",
       "      <th>Marsh</th>\n",
       "      <th>Queen</th>\n",
       "      <th>Bamoo</th>\n",
       "      <th>Trandee</th>\n",
       "      <th>Raffah</th>\n",
       "      <th>Total</th>\n",
       "    </tr>\n",
       "  </thead>\n",
       "  <tbody>\n",
       "    <tr>\n",
       "      <th>Correy</th>\n",
       "      <td>453015</td>\n",
       "      <td>139554</td>\n",
       "      <td>69752</td>\n",
       "      <td>20824</td>\n",
       "      <td>21055</td>\n",
       "      <td>704200</td>\n",
       "    </tr>\n",
       "    <tr>\n",
       "      <th>Khan</th>\n",
       "      <td>1427142</td>\n",
       "      <td>439494</td>\n",
       "      <td>219834</td>\n",
       "      <td>65939</td>\n",
       "      <td>65822</td>\n",
       "      <td>2218231</td>\n",
       "    </tr>\n",
       "    <tr>\n",
       "      <th>Li</th>\n",
       "      <td>317651</td>\n",
       "      <td>97305</td>\n",
       "      <td>48639</td>\n",
       "      <td>14741</td>\n",
       "      <td>14604</td>\n",
       "      <td>492940</td>\n",
       "    </tr>\n",
       "    <tr>\n",
       "      <th>O'Tooley</th>\n",
       "      <td>68149</td>\n",
       "      <td>20850</td>\n",
       "      <td>10433</td>\n",
       "      <td>3113</td>\n",
       "      <td>3085</td>\n",
       "      <td>105630</td>\n",
       "    </tr>\n",
       "  </tbody>\n",
       "</table>\n",
       "</div>"
      ],
      "text/plain": [
       "            Marsh   Queen   Bamoo  Trandee  Raffah    Total\n",
       "Correy     453015  139554   69752    20824   21055   704200\n",
       "Khan      1427142  439494  219834    65939   65822  2218231\n",
       "Li         317651   97305   48639    14741   14604   492940\n",
       "O'Tooley    68149   20850   10433     3113    3085   105630"
      ]
     },
     "execution_count": 6,
     "metadata": {},
     "output_type": "execute_result"
    }
   ],
   "source": [
    "# tacked on pandas output for multiyear analysis\n",
    "county_vote['Total'] = votes\n",
    "df = pd.DataFrame(county_vote)\n",
    "\n",
    "# order dataframe by county_names then total, otherwise total ordered before trandee\n",
    "county_names.append('Total') \n",
    "df = df[county_names]\n",
    "\n",
    "df.to_csv(out_filepath_csv, ',')\n",
    "\n",
    "df\n"
   ]
  },
  {
   "cell_type": "code",
   "execution_count": null,
   "metadata": {
    "collapsed": true
   },
   "outputs": [],
   "source": []
  }
 ],
 "metadata": {
  "kernelspec": {
   "display_name": "Python 3",
   "language": "python",
   "name": "python3"
  },
  "language_info": {
   "codemirror_mode": {
    "name": "ipython",
    "version": 3
   },
   "file_extension": ".py",
   "mimetype": "text/x-python",
   "name": "python",
   "nbconvert_exporter": "python",
   "pygments_lexer": "ipython3",
   "version": "3.6.1"
  }
 },
 "nbformat": 4,
 "nbformat_minor": 2
}
